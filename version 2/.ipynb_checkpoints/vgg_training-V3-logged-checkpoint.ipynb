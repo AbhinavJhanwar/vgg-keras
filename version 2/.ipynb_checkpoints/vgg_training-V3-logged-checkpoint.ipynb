{
 "cells": [
  {
   "cell_type": "code",
   "execution_count": 1,
   "metadata": {
    "collapsed": true,
    "nbpresent": {
     "id": "36a07810-b1ab-4c36-b2ee-4163fe0d860f"
    }
   },
   "outputs": [],
   "source": [
    "import os\n",
    "import shutil\n",
    "from tqdm import tqdm\n",
    "import cv2\n",
    "import gc\n",
    "import pandas as pd\n",
    "gc.enable()\n",
    "import numpy as np\n",
    "from sklearn import metrics, preprocessing\n",
    "import pandas as pd\n",
    "import datetime\n",
    "import logging\n",
    "import absl.logging\n",
    "logging.root.removeHandler(absl.logging._absl_handler)\n",
    "absl.logging._warn_preinit_stderr = False\n",
    "\n",
    "logging.basicConfig(filename='training_logs.log',\n",
    "                    level = logging.INFO,\n",
    "                    format='%(asctime)s - %(name)s - %(levelname)s - %(message)s',\n",
    "                    datefmt='%d-%b-%y %H:%M:%S')"
   ]
  },
  {
   "cell_type": "code",
   "execution_count": 2,
   "metadata": {
    "nbpresent": {
     "id": "c5d86ee5-6d2c-4a81-84b2-63d14353a571"
    }
   },
   "outputs": [
    {
     "name": "stderr",
     "output_type": "stream",
     "text": [
      "Using TensorFlow backend.\n"
     ]
    }
   ],
   "source": [
    "import tensorflow as tf\n",
    "from keras.backend.tensorflow_backend import set_session\n",
    "config = tf.ConfigProto()\n",
    "config.gpu_options.per_process_gpu_memory_fraction = 0.5\n",
    "set_session(tf.Session(config=config))"
   ]
  },
  {
   "cell_type": "code",
   "execution_count": null,
   "metadata": {},
   "outputs": [],
   "source": [
    "import configparser\n",
    "config = configparser.ConfigParser()\n",
    "config.read('training_config.conf')\n",
    "\n",
    "# csv file path for actual target and images names\n",
    "csv_file = config['paths']['csv_file']\n",
    "# images folder path\n",
    "images_dir = config['paths']['images_dir']\n",
    "# name of the model to be saved for vgg\n",
    "model_name = config['paths']['model_name']\n",
    "\n",
    "# training images directory\n",
    "train_images_dir = config['train_paths']['train_images_dir']\n",
    "# training csv file\n",
    "train_csv = config['train_paths']['train_csv']\n",
    "\n",
    "# validation images directory\n",
    "val_images_dir = config['val_paths']['val_images_dir']\n",
    "# validation csv file\n",
    "val_csv = config['val_paths']['val_csv']\n",
    "\n",
    "# test images directory\n",
    "test_images_dir = config['test_paths']['test_images_dir']\n",
    "# test csv file\n",
    "test_csv = config['test_paths']['test_csv']\n",
    "\n",
    "# learning rate to train model on\n",
    "lr = config['model_params']['lr']\n",
    "# training batch size\n",
    "train_batch = config['model_params']['train_batch']\n",
    "# validation bath size\n",
    "val_batch = config['model_params']['val_batch']\n",
    "# test bath size\n",
    "test_batch = config['model_params']['test_batch']\n",
    "\n",
    "# target size of images\n",
    "target_size = eval(config['model_params']['target_size'])\n",
    "# image color format\n",
    "image_color_mode = config['model_params']['image_color_mode']\n",
    "# whether to use pretrained model, if yes then pretrained weights file else None\n",
    "pretrained_weights = config['model_params']['pretrained_weights']\n",
    "# whether to load initial weights or random weights\n",
    "initial_weights = config['model_params']['initial_weights']\n",
    "\n",
    "print('model configuration-')\n",
    "logging.info(datetime.datetime.now())\n",
    "logging.info('training configuration:')\n",
    "for tag in ['paths', 'train_paths', 'val_paths', 'test_paths', 'model_params']:\n",
    "    for key, val in config[tag].items():\n",
    "        logging.info(key+' '+val)\n",
    "        print(key, val)"
   ]
  },
  {
   "cell_type": "code",
   "execution_count": 5,
   "metadata": {
    "nbpresent": {
     "id": "4a065555-ba2a-485a-8924-4e8454830518"
    }
   },
   "outputs": [],
   "source": [
    "data_gen_args = dict(rotation_range=0.2,\n",
    "                     width_shift_range=0.05,\n",
    "                     height_shift_range=0.05,\n",
    "                     shear_range=0.05,\n",
    "                     zoom_range=0.05,\n",
    "                     horizontal_flip=True,\n",
    "                     fill_mode='nearest',\n",
    "                     rescale=1./255\n",
    "                    )\n",
    "logging.info('data_gen_args:')\n",
    "for key, val in data_gen_args.items():\n",
    "    logging.info(key+' '+str(val))"
   ]
  },
  {
   "cell_type": "code",
   "execution_count": 6,
   "metadata": {
    "nbpresent": {
     "id": "a675e2ba-b6c5-410d-81ba-9c4b2d9de360"
    }
   },
   "outputs": [
    {
     "name": "stdout",
     "output_type": "stream",
     "text": [
      "Found 2430 validated image filenames.\n",
      "Found 300 validated image filenames.\n"
     ]
    }
   ],
   "source": [
    "from dataFlatten import trainGenerator, validationGenerator\n",
    "train_generator = trainGenerator(int(train_batch), train_images_dir, pd.read_csv(train_csv), \n",
    "                           data_gen_args, save_to_dir=None, image_color_mode=image_color_mode,\n",
    "                           target_size=target_size)\n",
    "\n",
    "validation_generator = validationGenerator(int(val_batch), val_images_dir, pd.read_csv(val_csv), \n",
    "                                           data_gen_args, save_to_dir=None, image_color_mode=image_color_mode,\n",
    "                                           target_size=target_size)"
   ]
  },
  {
   "cell_type": "code",
   "execution_count": 10,
   "metadata": {
    "nbpresent": {
     "id": "cf4adfe5-5913-4ddb-9482-d16e0ccc72e8"
    },
    "scrolled": true
   },
   "outputs": [
    {
     "name": "stdout",
     "output_type": "stream",
     "text": [
      "_________________________________________________________________\n",
      "Layer (type)                 Output Shape              Param #   \n",
      "=================================================================\n",
      "input_1 (InputLayer)         (None, 1024, 128, 3)      0         \n",
      "_________________________________________________________________\n",
      "block1_conv1 (Conv2D)        (None, 1024, 128, 64)     1792      \n",
      "_________________________________________________________________\n",
      "block1_conv2 (Conv2D)        (None, 1024, 128, 64)     36928     \n",
      "_________________________________________________________________\n",
      "block1_pool (MaxPooling2D)   (None, 512, 64, 64)       0         \n",
      "_________________________________________________________________\n",
      "block2_conv1 (Conv2D)        (None, 512, 64, 128)      73856     \n",
      "_________________________________________________________________\n",
      "block2_conv2 (Conv2D)        (None, 512, 64, 128)      147584    \n",
      "_________________________________________________________________\n",
      "block2_pool (MaxPooling2D)   (None, 256, 32, 128)      0         \n",
      "_________________________________________________________________\n",
      "block3_conv1 (Conv2D)        (None, 256, 32, 256)      295168    \n",
      "_________________________________________________________________\n",
      "block3_conv2 (Conv2D)        (None, 256, 32, 256)      590080    \n",
      "_________________________________________________________________\n",
      "block3_conv3 (Conv2D)        (None, 256, 32, 256)      590080    \n",
      "_________________________________________________________________\n",
      "block3_pool (MaxPooling2D)   (None, 128, 16, 256)      0         \n",
      "_________________________________________________________________\n",
      "block4_conv1 (Conv2D)        (None, 128, 16, 512)      1180160   \n",
      "_________________________________________________________________\n",
      "block4_conv2 (Conv2D)        (None, 128, 16, 512)      2359808   \n",
      "_________________________________________________________________\n",
      "block4_conv3 (Conv2D)        (None, 128, 16, 512)      2359808   \n",
      "_________________________________________________________________\n",
      "block4_pool (MaxPooling2D)   (None, 64, 8, 512)        0         \n",
      "_________________________________________________________________\n",
      "average_pooling2d (AveragePo (None, 16, 2, 512)        0         \n",
      "_________________________________________________________________\n",
      "flatten (Flatten)            (None, 16384)             0         \n",
      "_________________________________________________________________\n",
      "dense (Dense)                (None, 1024)              16778240  \n",
      "_________________________________________________________________\n",
      "dropout (Dropout)            (None, 1024)              0         \n",
      "_________________________________________________________________\n",
      "dense_1 (Dense)              (None, 1)                 1025      \n",
      "=================================================================\n",
      "Total params: 24,414,529\n",
      "Trainable params: 16,779,265\n",
      "Non-trainable params: 7,635,264\n",
      "_________________________________________________________________\n",
      "None\n"
     ]
    }
   ],
   "source": [
    "from vgg_regressor import vgg_12_freezed\n",
    "model = vgg_12_freezed(pretrained_weights=pretrained_weights, input_size=(target_size[0], target_size[1], 3), initial_weights=initial_weights, lr=float(lr))\n",
    "logging.info('model- ')\n",
    "logging.info(vgg_12_freezed)"
   ]
  },
  {
   "cell_type": "code",
   "execution_count": 11,
   "metadata": {
    "collapsed": true,
    "nbpresent": {
     "id": "f9a51a5a-b2c6-4e5f-8e5d-50ff9ce7ce5a"
    }
   },
   "outputs": [],
   "source": [
    "from vgg_regressor import ModelCheckpoint, EarlyStopping, ReduceLROnPlateau\n",
    "early_stopping = EarlyStopping(monitor='val_mean_squared_error', mode='min', patience=10, verbose=1)\n",
    "model_checkpoint = ModelCheckpoint(model_name, monitor='val_mean_squared_error', verbose=1, save_best_only=True)"
   ]
  },
  {
   "cell_type": "code",
   "execution_count": null,
   "metadata": {
    "nbpresent": {
     "id": "936ac877-1558-4de8-848f-196d86ccdaa3"
    }
   },
   "outputs": [],
   "source": [
    "history = model.fit_generator(train_generator, \n",
    "                              epochs=60,\n",
    "                              steps_per_epoch=608,\n",
    "                              validation_data=validation_generator,\n",
    "                              validation_steps=150,\n",
    "                              callbacks=[model_checkpoint, early_stopping],\n",
    "                              verbose=1)"
   ]
  },
  {
   "cell_type": "markdown",
   "metadata": {
    "collapsed": true
   },
   "source": [
    "# predictions"
   ]
  },
  {
   "cell_type": "code",
   "execution_count": 9,
   "metadata": {
    "collapsed": true
   },
   "outputs": [],
   "source": [
    "from dataFlatten import testGenerator\n",
    "import numpy as np\n",
    "from sklearn import metrics\n",
    "def mean_absolute_percentage_error(y_true, y_pred): \n",
    "    y_true, y_pred = np.array(y_true), np.array(y_pred)\n",
    "    return np.mean(np.abs((y_true - y_pred) / y_true)) * 100"
   ]
  },
  {
   "cell_type": "markdown",
   "metadata": {},
   "source": [
    "# train data"
   ]
  },
  {
   "cell_type": "code",
   "execution_count": 13,
   "metadata": {},
   "outputs": [
    {
     "name": "stdout",
     "output_type": "stream",
     "text": [
      "Found 2430 validated image filenames.\n",
      "RMSE:  0.4860827328980316\n",
      "MSE:  0.23627642322161913\n",
      "MAE:  0.35924799914874456\n",
      "MAPE:  13.97961940836135\n"
     ]
    }
   ],
   "source": [
    "# define test generator for preprocessing data as per train data\n",
    "data_gen_args = dict(\n",
    "                    rescale=1./255\n",
    "        )\n",
    "\n",
    "test_generator1 = testGenerator(int(train_batch) , train_images_dir , pd.read_csv(train_csv),\n",
    "                               data_gen_args, x_col='field', y_col='target', \n",
    "                               save_to_dir=None, image_color_mode=image_color_mode,\n",
    "                               target_size=target_size)\n",
    "\n",
    "# load test data csv file\n",
    "test_data = pd.read_csv(train_csv)\n",
    "\n",
    "# make perdictions for the test data\n",
    "test_data['target_pred'] = model.predict_generator(test_generator1)\n",
    "\n",
    "target='target'\n",
    "# print various perfomance metrics for the test data\n",
    "print(\"RMSE: \", np.sqrt(metrics.mean_squared_error(test_data[[target]], test_data[[target+'_pred']])))\n",
    "print(\"MSE: \", metrics.mean_squared_error(test_data[[target]], test_data[[target+'_pred']]))\n",
    "print(\"MAE: \", metrics.mean_absolute_error(test_data[[target]], test_data[[target+'_pred']]))\n",
    "print(\"MAPE: \", mean_absolute_percentage_error(test_data[[target]], test_data[[target+'_pred']]))\n",
    "logging.info('train mae- '+str(metrics.mean_absolute_error(test_data[[target]], test_data[[target+'_pred']])))"
   ]
  },
  {
   "cell_type": "markdown",
   "metadata": {},
   "source": [
    "# test data"
   ]
  },
  {
   "cell_type": "code",
   "execution_count": 14,
   "metadata": {},
   "outputs": [
    {
     "name": "stdout",
     "output_type": "stream",
     "text": [
      "Found 270 validated image filenames.\n",
      "RMSE:  0.757502316857466\n",
      "MSE:  0.573809760044429\n",
      "MAE:  0.5398256226664573\n",
      "MAPE:  21.030569695167934\n"
     ]
    }
   ],
   "source": [
    "data_gen_args = dict(\n",
    "                    rescale=1./255\n",
    "        )\n",
    "\n",
    "test_generator2 = testGenerator(int(test_batch), test_images_dir, pd.read_csv(test_csv),\n",
    "                               data_gen_args, x_col='field', y_col='target',\n",
    "                               save_to_dir=None, image_color_mode=image_color_mode,\n",
    "                               target_size=target_size)\n",
    "\n",
    "# load test data csv file\n",
    "test_data = pd.read_csv(test_csv)\n",
    "\n",
    "# make perdictions for the test data\n",
    "test_data['target_pred'] = model.predict_generator(test_generator2)\n",
    "\n",
    "target='target'\n",
    "# print various perfomance metrics for the test data\n",
    "print(\"RMSE: \", np.sqrt(metrics.mean_squared_error(test_data[[target]], test_data[[target+'_pred']])))\n",
    "print(\"MSE: \", metrics.mean_squared_error(test_data[[target]], test_data[[target+'_pred']]))\n",
    "print(\"MAE: \", metrics.mean_absolute_error(test_data[[target]], test_data[[target+'_pred']]))\n",
    "print(\"MAPE: \", mean_absolute_percentage_error(test_data[[target]], test_data[[target+'_pred']]))\n",
    "logging.info('test mae- '+str(metrics.mean_absolute_error(test_data[[target]], test_data[[target+'_pred']])))"
   ]
  },
  {
   "cell_type": "code",
   "execution_count": null,
   "metadata": {
    "collapsed": true
   },
   "outputs": [],
   "source": []
  },
  {
   "cell_type": "code",
   "execution_count": null,
   "metadata": {
    "collapsed": true
   },
   "outputs": [],
   "source": []
  }
 ],
 "metadata": {
  "anaconda-cloud": {},
  "kernelspec": {
   "display_name": "Python 3",
   "language": "python",
   "name": "python3"
  },
  "language_info": {
   "codemirror_mode": {
    "name": "ipython",
    "version": 3
   },
   "file_extension": ".py",
   "mimetype": "text/x-python",
   "name": "python",
   "nbconvert_exporter": "python",
   "pygments_lexer": "ipython3",
   "version": "3.6.5"
  },
  "nbpresent": {
   "slides": {
    "037520a8-00b0-4e9b-9ef0-13cee56b26fd": {
     "id": "037520a8-00b0-4e9b-9ef0-13cee56b26fd",
     "prev": "8f4a03fd-f207-4e73-a7c4-a8c0e1d2563e",
     "regions": {
      "21fb3e84-88a5-466a-8b7f-31c9bfda4530": {
       "attrs": {
        "height": 0.8,
        "width": 0.8,
        "x": 0.1,
        "y": 0.1
       },
       "content": {
        "cell": "6f40088b-6b0d-474b-ae9d-3c7f597554fc",
        "part": "whole"
       },
       "id": "21fb3e84-88a5-466a-8b7f-31c9bfda4530"
      }
     }
    },
    "182c1eed-547c-4c34-9f27-be98b49a4e51": {
     "id": "182c1eed-547c-4c34-9f27-be98b49a4e51",
     "prev": "aa19f8aa-efab-4598-99a8-f7d9c7b9ed8d",
     "regions": {
      "9ff15c27-1a97-4c0c-8135-ed3bc0673b34": {
       "attrs": {
        "height": 0.8,
        "width": 0.8,
        "x": 0.1,
        "y": 0.1
       },
       "content": {
        "cell": "936ac877-1558-4de8-848f-196d86ccdaa3",
        "part": "whole"
       },
       "id": "9ff15c27-1a97-4c0c-8135-ed3bc0673b34"
      }
     },
     "theme": "0ec992ae-02d2-4980-a4ed-5bf0a31ab7d4"
    },
    "4be844b4-945c-43b8-8867-34c4b3df9195": {
     "id": "4be844b4-945c-43b8-8867-34c4b3df9195",
     "prev": "7d460678-8f43-4a72-a369-37c4c36d48dc",
     "regions": {
      "b5f1ff25-bbea-479e-afd4-63304b4d95f4": {
       "attrs": {
        "height": 0.8,
        "width": 0.8,
        "x": 0.1,
        "y": 0.1
       },
       "content": {
        "cell": "a675e2ba-b6c5-410d-81ba-9c4b2d9de360",
        "part": "whole"
       },
       "id": "b5f1ff25-bbea-479e-afd4-63304b4d95f4"
      }
     }
    },
    "74eeb80d-16d4-4103-9f7d-ed9e702a71b2": {
     "id": "74eeb80d-16d4-4103-9f7d-ed9e702a71b2",
     "prev": "8c5a95e8-61b6-4799-b1fb-02d02f28b304",
     "regions": {
      "04469f96-9f9e-4d91-8f72-16634c684d54": {
       "attrs": {
        "height": 0.8,
        "width": 0.8,
        "x": 0.1,
        "y": 0.1
       },
       "content": {
        "cell": "c5d86ee5-6d2c-4a81-84b2-63d14353a571",
        "part": "whole"
       },
       "id": "04469f96-9f9e-4d91-8f72-16634c684d54"
      }
     }
    },
    "7d460678-8f43-4a72-a369-37c4c36d48dc": {
     "id": "7d460678-8f43-4a72-a369-37c4c36d48dc",
     "prev": "74eeb80d-16d4-4103-9f7d-ed9e702a71b2",
     "regions": {
      "a42e480d-7d14-42e4-b4da-6f81b8e6bd73": {
       "attrs": {
        "height": 0.8,
        "width": 0.8,
        "x": 0.1,
        "y": 0.1
       },
       "content": {
        "cell": "4a065555-ba2a-485a-8924-4e8454830518",
        "part": "whole"
       },
       "id": "a42e480d-7d14-42e4-b4da-6f81b8e6bd73"
      }
     }
    },
    "8c5a95e8-61b6-4799-b1fb-02d02f28b304": {
     "id": "8c5a95e8-61b6-4799-b1fb-02d02f28b304",
     "prev": null,
     "regions": {
      "0819dd89-aab8-48e1-b844-4b65fd9fc350": {
       "attrs": {
        "height": 0.8,
        "width": 0.8,
        "x": 0.1,
        "y": 0.1
       },
       "content": {
        "cell": "36a07810-b1ab-4c36-b2ee-4163fe0d860f",
        "part": "whole"
       },
       "id": "0819dd89-aab8-48e1-b844-4b65fd9fc350"
      }
     }
    },
    "8f4a03fd-f207-4e73-a7c4-a8c0e1d2563e": {
     "id": "8f4a03fd-f207-4e73-a7c4-a8c0e1d2563e",
     "prev": "d43dade2-2c27-4dac-88a1-6a632424b43e",
     "regions": {
      "88a584a1-443c-42d4-aac5-76cb4bc1418b": {
       "attrs": {
        "height": 0.8,
        "width": 0.8,
        "x": 0.1,
        "y": 0.1
       },
       "content": {
        "cell": "e2ba38d8-d81b-457d-baf3-64e55a06463f",
        "part": "whole"
       },
       "id": "88a584a1-443c-42d4-aac5-76cb4bc1418b"
      }
     }
    },
    "aa19f8aa-efab-4598-99a8-f7d9c7b9ed8d": {
     "id": "aa19f8aa-efab-4598-99a8-f7d9c7b9ed8d",
     "prev": "fdcfdff6-ff14-41f2-95dc-92624a108733",
     "regions": {
      "3edbffea-4af4-4551-a9d7-7fd45ce348c6": {
       "attrs": {
        "height": 0.8,
        "width": 0.8,
        "x": 0.1,
        "y": 0.1
       },
       "content": {
        "cell": "f9a51a5a-b2c6-4e5f-8e5d-50ff9ce7ce5a",
        "part": "whole"
       },
       "id": "3edbffea-4af4-4551-a9d7-7fd45ce348c6"
      }
     }
    },
    "d43dade2-2c27-4dac-88a1-6a632424b43e": {
     "id": "d43dade2-2c27-4dac-88a1-6a632424b43e",
     "prev": "182c1eed-547c-4c34-9f27-be98b49a4e51",
     "regions": {
      "55c7d766-5377-46c8-92c0-d2cf19470066": {
       "attrs": {
        "height": 0.8,
        "width": 0.8,
        "x": 0.1,
        "y": 0.1
       },
       "content": {
        "cell": "0c8c10ae-f9b4-4657-8053-7db30f172da2",
        "part": "whole"
       },
       "id": "55c7d766-5377-46c8-92c0-d2cf19470066"
      }
     }
    },
    "fdcfdff6-ff14-41f2-95dc-92624a108733": {
     "id": "fdcfdff6-ff14-41f2-95dc-92624a108733",
     "prev": "4be844b4-945c-43b8-8867-34c4b3df9195",
     "regions": {
      "6b3ae82c-c42f-405c-a3e0-d2137fdf5dff": {
       "attrs": {
        "height": 0.8,
        "width": 0.8,
        "x": 0.1,
        "y": 0.1
       },
       "content": {
        "cell": "cf4adfe5-5913-4ddb-9482-d16e0ccc72e8",
        "part": "whole"
       },
       "id": "6b3ae82c-c42f-405c-a3e0-d2137fdf5dff"
      }
     }
    }
   },
   "themes": {
    "default": "0ec992ae-02d2-4980-a4ed-5bf0a31ab7d4",
    "theme": {
     "0ec992ae-02d2-4980-a4ed-5bf0a31ab7d4": {
      "backgrounds": {
       "dc7afa04-bf90-40b1-82a5-726e3cff5267": {
        "background-color": "31af15d2-7e15-44c5-ab5e-e04b16a89eff",
        "id": "dc7afa04-bf90-40b1-82a5-726e3cff5267"
       }
      },
      "id": "0ec992ae-02d2-4980-a4ed-5bf0a31ab7d4",
      "palette": {
       "19cc588f-0593-49c9-9f4b-e4d7cc113b1c": {
        "id": "19cc588f-0593-49c9-9f4b-e4d7cc113b1c",
        "rgb": [
         252,
         252,
         252
        ]
       },
       "31af15d2-7e15-44c5-ab5e-e04b16a89eff": {
        "id": "31af15d2-7e15-44c5-ab5e-e04b16a89eff",
        "rgb": [
         68,
         68,
         68
        ]
       },
       "50f92c45-a630-455b-aec3-788680ec7410": {
        "id": "50f92c45-a630-455b-aec3-788680ec7410",
        "rgb": [
         197,
         226,
         245
        ]
       },
       "c5cc3653-2ee1-402a-aba2-7caae1da4f6c": {
        "id": "c5cc3653-2ee1-402a-aba2-7caae1da4f6c",
        "rgb": [
         43,
         126,
         184
        ]
       },
       "efa7f048-9acb-414c-8b04-a26811511a21": {
        "id": "efa7f048-9acb-414c-8b04-a26811511a21",
        "rgb": [
         25.118061674008803,
         73.60176211453744,
         107.4819383259912
        ]
       }
      },
      "rules": {
       "a": {
        "color": "19cc588f-0593-49c9-9f4b-e4d7cc113b1c"
       },
       "blockquote": {
        "color": "50f92c45-a630-455b-aec3-788680ec7410",
        "font-size": 3
       },
       "code": {
        "font-family": "Anonymous Pro"
       },
       "h1": {
        "color": "19cc588f-0593-49c9-9f4b-e4d7cc113b1c",
        "font-family": "Merriweather",
        "font-size": 8
       },
       "h2": {
        "color": "19cc588f-0593-49c9-9f4b-e4d7cc113b1c",
        "font-family": "Merriweather",
        "font-size": 6
       },
       "h3": {
        "color": "50f92c45-a630-455b-aec3-788680ec7410",
        "font-family": "Lato",
        "font-size": 5.5
       },
       "h4": {
        "color": "c5cc3653-2ee1-402a-aba2-7caae1da4f6c",
        "font-family": "Lato",
        "font-size": 5
       },
       "h5": {
        "font-family": "Lato"
       },
       "h6": {
        "font-family": "Lato"
       },
       "h7": {
        "font-family": "Lato"
       },
       "li": {
        "color": "50f92c45-a630-455b-aec3-788680ec7410",
        "font-size": 3.25
       },
       "pre": {
        "font-family": "Anonymous Pro",
        "font-size": 4
       }
      },
      "text-base": {
       "color": "19cc588f-0593-49c9-9f4b-e4d7cc113b1c",
       "font-family": "Lato",
       "font-size": 4
      }
     },
     "1920f81c-7858-457e-93d6-dc69a5339277": {
      "id": "1920f81c-7858-457e-93d6-dc69a5339277",
      "palette": {
       "19cc588f-0593-49c9-9f4b-e4d7cc113b1c": {
        "id": "19cc588f-0593-49c9-9f4b-e4d7cc113b1c",
        "rgb": [
         252,
         252,
         252
        ]
       },
       "31af15d2-7e15-44c5-ab5e-e04b16a89eff": {
        "id": "31af15d2-7e15-44c5-ab5e-e04b16a89eff",
        "rgb": [
         68,
         68,
         68
        ]
       },
       "50f92c45-a630-455b-aec3-788680ec7410": {
        "id": "50f92c45-a630-455b-aec3-788680ec7410",
        "rgb": [
         155,
         177,
         192
        ]
       },
       "c5cc3653-2ee1-402a-aba2-7caae1da4f6c": {
        "id": "c5cc3653-2ee1-402a-aba2-7caae1da4f6c",
        "rgb": [
         43,
         126,
         184
        ]
       },
       "efa7f048-9acb-414c-8b04-a26811511a21": {
        "id": "efa7f048-9acb-414c-8b04-a26811511a21",
        "rgb": [
         25.118061674008803,
         73.60176211453744,
         107.4819383259912
        ]
       }
      },
      "rules": {
       "blockquote": {
        "color": "50f92c45-a630-455b-aec3-788680ec7410"
       },
       "code": {
        "font-family": "Anonymous Pro"
       },
       "h1": {
        "color": "c5cc3653-2ee1-402a-aba2-7caae1da4f6c",
        "font-family": "Lato",
        "font-size": 8
       },
       "h2": {
        "color": "c5cc3653-2ee1-402a-aba2-7caae1da4f6c",
        "font-family": "Lato",
        "font-size": 6
       },
       "h3": {
        "color": "50f92c45-a630-455b-aec3-788680ec7410",
        "font-family": "Lato",
        "font-size": 5.5
       },
       "h4": {
        "color": "c5cc3653-2ee1-402a-aba2-7caae1da4f6c",
        "font-family": "Lato",
        "font-size": 5
       },
       "h5": {
        "font-family": "Lato"
       },
       "h6": {
        "font-family": "Lato"
       },
       "h7": {
        "font-family": "Lato"
       },
       "pre": {
        "font-family": "Anonymous Pro",
        "font-size": 4
       }
      },
      "text-base": {
       "font-family": "Merriweather",
       "font-size": 4
      }
     }
    }
   }
  }
 },
 "nbformat": 4,
 "nbformat_minor": 1
}
