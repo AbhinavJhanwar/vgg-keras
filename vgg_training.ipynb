{
 "cells": [
  {
   "cell_type": "code",
   "execution_count": 1,
   "metadata": {
    "collapsed": true
   },
   "outputs": [],
   "source": [
    "import os\n",
    "import shutil\n",
    "from tqdm import tqdm\n",
    "import cv2\n",
    "import gc\n",
    "import pandas as pd\n",
    "gc.enable()"
   ]
  },
  {
   "cell_type": "code",
   "execution_count": 2,
   "metadata": {
    "collapsed": false
   },
   "outputs": [
    {
     "name": "stderr",
     "output_type": "stream",
     "text": [
      "Using TensorFlow backend.\n"
     ]
    }
   ],
   "source": [
    "import tensorflow as tf\n",
    "from keras.backend.tensorflow_backend import set_session\n",
    "config = tf.ConfigProto()\n",
    "config.gpu_options.per_process_gpu_memory_fraction = 0.6\n",
    "set_session(tf.Session(config=config))"
   ]
  },
  {
   "cell_type": "code",
   "execution_count": 3,
   "metadata": {
    "collapsed": true
   },
   "outputs": [],
   "source": [
    "data_gen_args = dict(rotation_range=0.2,\n",
    "                     rescale=1./255,\n",
    "                    width_shift_range=0.05,\n",
    "                    height_shift_range=0.05,\n",
    "                    shear_range=0.05,\n",
    "                    zoom_range=0.05,\n",
    "                    horizontal_flip=True,\n",
    "                    fill_mode='nearest')"
   ]
  },
  {
   "cell_type": "code",
   "execution_count": 4,
   "metadata": {
    "collapsed": false
   },
   "outputs": [
    {
     "name": "stdout",
     "output_type": "stream",
     "text": [
      "Found 1782 validated image filenames.\n",
      "Found 209 validated image filenames.\n"
     ]
    }
   ],
   "source": [
    "from dataFlatten import trainGenerator, validationGenerator\n",
    "train_generator = trainGenerator(4, 'data/train/image', pd.read_csv('train.csv'), \n",
    "                           data_gen_args, save_to_dir=\"data/train/aug\", image_color_mode=\"rgb\",\n",
    "                           target_size=(1024,128))\n",
    "\n",
    "validation_generator = validationGenerator(2, 'data/val/image', pd.read_csv('val.csv'), \n",
    "                                           data_gen_args, save_to_dir=\"data/val/aug\", image_color_mode=\"rgb\",\n",
    "                                           target_size=(1024,128))\n"
   ]
  },
  {
   "cell_type": "code",
   "execution_count": 3,
   "metadata": {
    "collapsed": true
   },
   "outputs": [],
   "source": [
    "from vgg_model import vgg_16, vgg_12, vgg_9\n",
    "#model = vgg12(pretrained_weights='vgg12.hdf5', input_size=(1024,128,3))\n",
    "model = vgg12(input_size=(1024,128,3))"
   ]
  },
  {
   "cell_type": "code",
   "execution_count": 1,
   "metadata": {
    "collapsed": false
   },
   "outputs": [
    {
     "name": "stderr",
     "output_type": "stream",
     "text": [
      "C:\\Users\\abhinav.jhanwar\\AppData\\Local\\Continuum\\anaconda3\\lib\\site-packages\\h5py\\__init__.py:36: FutureWarning: Conversion of the second argument of issubdtype from `float` to `np.floating` is deprecated. In future, it will be treated as `np.float64 == np.dtype(float).type`.\n",
      "  from ._conv import register_converters as _register_converters\n",
      "Using TensorFlow backend.\n"
     ]
    }
   ],
   "source": [
    "from vgg_regressor import ModelCheckpoint, EarlyStopping\n",
    "early_stopping = EarlyStopping(monitor='val_mean_squared_error', mode='min', patience=15, verbose=1)\n",
    "model_checkpoint = ModelCheckpoint('vgg12.hdf5', monitor='val_mean_squared_error', verbose=1, save_best_only=True)"
   ]
  },
  {
   "cell_type": "code",
   "execution_count": null,
   "metadata": {
    "collapsed": false
   },
   "outputs": [
    {
     "name": "stdout",
     "output_type": "stream",
     "text": [
      "WARNING:tensorflow:From /home/ec2-user/anaconda3/envs/abhi-dow/lib/python3.5/site-packages/tensorflow/python/ops/math_ops.py:3066: to_int32 (from tensorflow.python.ops.math_ops) is deprecated and will be removed in a future version.\n",
      "Instructions for updating:\n",
      "Use tf.cast instead.\n",
      "Epoch 1/50\n",
      "119/446 [=======>......................] - ETA: 2:46 - loss: 0.1224 - mean_squared_error: 0.1224 - mean_absolute_error: 0.2324 - mean_absolute_percentage_error: 9.6331"
     ]
    }
   ],
   "source": [
    "history = model.fit_generator(train_generator, \n",
    "                              epochs=50,\n",
    "                              steps_per_epoch=445,\n",
    "                              validation_data=validation_generator,\n",
    "                              validation_steps=104,\n",
    "                              callbacks=[model_checkpoint, early_stopping],\n",
    "                              verbose=1)"
   ]
  },
  {
   "cell_type": "markdown",
   "metadata": {
    "collapsed": true
   },
   "source": [
    "# Predictions"
   ]
  },
  {
   "cell_type": "code",
   "execution_count": null,
   "metadata": {
    "collapsed": true
   },
   "outputs": [],
   "source": [
    "from tensorflow.python.keras.models import load_model\n",
    "model = load_model('vgg12.hdf5')"
   ]
  },
  {
   "cell_type": "code",
   "execution_count": null,
   "metadata": {
    "collapsed": true
   },
   "outputs": [],
   "source": [
    "from dataFlatten import testGenerator\n",
    "import pandas as pd\n",
    "# define test generator for preprocessing data as per train data\n",
    "data_gen_args = dict(#rotation_range=0.2,\n",
    "                    #width_shift_range=0.05,\n",
    "                    #height_shift_range=0.05,\n",
    "                    #shear_range=0.05,\n",
    "                    #zoom_range=0.05,\n",
    "                    #horizontal_flip=True,\n",
    "                    #fill_mode='nearest',\n",
    "                    rescale=1./255\n",
    ")\n",
    "\n",
    "test_generator = testGenerator(2, 'data/test/image', pd.read_csv('test.csv'),\n",
    "                               data_gen_args, x_col='field', y_col='lai', \n",
    "                               save_to_dir=\"data/test/aug\", image_color_mode=\"rgb\",\n",
    "                               target_size=(1152,192))\n",
    "\n",
    "# load test data csv file\n",
    "test_data = pd.read_csv('test.csv')\n",
    "\n",
    "# make perdictions for the test data\n",
    "predictions = model.predict_generator(test_generator)\n",
    "\n",
    "# save predictions in the csv file\n",
    "test_data['lai_pred'] = predictions\n",
    "test_data.to_csv('test_data_pred.csv')"
   ]
  },
  {
   "cell_type": "code",
   "execution_count": null,
   "metadata": {
    "collapsed": true
   },
   "outputs": [],
   "source": [
    "import numpy as np\n",
    "from sklearn import metrics\n",
    "def mean_absolute_percentage_error(y_true, y_pred): \n",
    "    y_true, y_pred = np.array(y_true), np.array(y_pred)\n",
    "    return np.mean(np.abs((y_true - y_pred) / y_true)) * 100\n",
    "\n",
    "# print various perfomance metrics for the test data\n",
    "print(\"RMSE: \", np.sqrt(metrics.mean_squared_error(test_data['lai'].values, test_data.lai_pred)))\n",
    "print(\"MSE: \", metrics.mean_squared_error(test_data['lai'].values, test_data.lai_pred))\n",
    "print(\"MAE: \", metrics.mean_absolute_error(test_data['lai'].values, test_data.lai_pred))\n",
    "print(\"MAPE: \", mean_absolute_percentage_error(test_data.lai, test_data.lai_pred))"
   ]
  }
 ],
 "metadata": {
  "anaconda-cloud": {},
  "kernelspec": {
   "display_name": "Python 3",
   "language": "python",
   "name": "python3"
  },
  "language_info": {
   "codemirror_mode": {
    "name": "ipython",
    "version": 3
   },
   "file_extension": ".py",
   "mimetype": "text/x-python",
   "name": "python",
   "nbconvert_exporter": "python",
   "pygments_lexer": "ipython3",
   "version": "3.6.5"
  }
 },
 "nbformat": 4,
 "nbformat_minor": 1
}
